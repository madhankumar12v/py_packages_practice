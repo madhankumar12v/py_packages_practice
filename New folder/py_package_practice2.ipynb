{
 "cells": [
  {
   "cell_type": "code",
   "execution_count": 20,
   "id": "f02da44e-4f9d-42f9-860e-ffa52fdfda37",
   "metadata": {
    "tags": []
   },
   "outputs": [
    {
     "data": {
      "text/plain": [
       "RangeIndex(start=0, stop=797, step=1)"
      ]
     },
     "execution_count": 20,
     "metadata": {},
     "output_type": "execute_result"
    }
   ],
   "source": [
    "std.index "
   ]
  },
  {
   "cell_type": "code",
   "execution_count": 21,
   "id": "c9b90c6a-8992-4a71-aa0d-89f6eef4eb8e",
   "metadata": {
    "tags": []
   },
   "outputs": [
    {
     "data": {
      "text/plain": [
       "Index(['Roll Number', 'Student Name', 'Institution Name', 'Email', 'Mobile',\n",
       "       'Date Of Birth', 'Unnamed: 6', 'Alternative Email',\n",
       "       'Alternative Mobile', 'Admission Type', 'Slab', 'Gender',\n",
       "       'Application No'],\n",
       "      dtype='object')"
      ]
     },
     "execution_count": 21,
     "metadata": {},
     "output_type": "execute_result"
    }
   ],
   "source": [
    "std.columns"
   ]
  },
  {
   "cell_type": "code",
   "execution_count": 22,
   "id": "34ecc783-c698-4923-870d-14ae7c0c6046",
   "metadata": {
    "tags": []
   },
   "outputs": [
    {
     "name": "stdout",
     "output_type": "stream",
     "text": [
      "<class 'pandas.core.frame.DataFrame'>\n",
      "RangeIndex: 797 entries, 0 to 796\n",
      "Data columns (total 13 columns):\n",
      " #   Column              Non-Null Count  Dtype  \n",
      "---  ------              --------------  -----  \n",
      " 0   Roll Number         797 non-null    object \n",
      " 1   Student Name        797 non-null    object \n",
      " 2   Institution Name    163 non-null    object \n",
      " 3   Email               790 non-null    object \n",
      " 4   Mobile              789 non-null    float64\n",
      " 5   Date Of Birth       797 non-null    object \n",
      " 6   Unnamed: 6          0 non-null      float64\n",
      " 7   Alternative Email   773 non-null    object \n",
      " 8   Alternative Mobile  763 non-null    object \n",
      " 9   Admission Type      797 non-null    object \n",
      " 10  Slab                571 non-null    float64\n",
      " 11  Gender              797 non-null    object \n",
      " 12  Application No      720 non-null    float64\n",
      "dtypes: float64(4), object(9)\n",
      "memory usage: 81.1+ KB\n"
     ]
    }
   ],
   "source": [
    "std.info()"
   ]
  },
  {
   "cell_type": "code",
   "execution_count": 23,
   "id": "ff0394c3-7c19-4de2-8244-104b15dd5a1c",
   "metadata": {
    "tags": []
   },
   "outputs": [
    {
     "data": {
      "text/plain": [
       "Roll Number           797\n",
       "Student Name          797\n",
       "Institution Name      163\n",
       "Email                 790\n",
       "Mobile                789\n",
       "Date Of Birth         797\n",
       "Unnamed: 6              0\n",
       "Alternative Email     773\n",
       "Alternative Mobile    763\n",
       "Admission Type        797\n",
       "Slab                  571\n",
       "Gender                797\n",
       "Application No        720\n",
       "dtype: int64"
      ]
     },
     "execution_count": 23,
     "metadata": {},
     "output_type": "execute_result"
    }
   ],
   "source": [
    "std.count()"
   ]
  },
  {
   "cell_type": "code",
   "execution_count": 24,
   "id": "5c2326ad-219a-4b35-b63a-1d550b225964",
   "metadata": {
    "tags": []
   },
   "outputs": [
    {
     "name": "stderr",
     "output_type": "stream",
     "text": [
      "C:\\Users\\madhankumarv\\AppData\\Local\\Temp\\ipykernel_9544\\493393309.py:1: FutureWarning: The default value of numeric_only in DataFrame.sum is deprecated. In a future version, it will default to False. In addition, specifying 'numeric_only=None' is deprecated. Select only valid columns or specify the value of numeric_only to silence this warning.\n",
      "  std.sum()\n"
     ]
    },
    {
     "data": {
      "text/plain": [
       "Roll Number       AM.EN.U4AIE20001AM.EN.U4AIE20002AM.EN.U4AIE200...\n",
       "Student Name      Abburi Sai KarthikAbhinandhu AAbhiram SAddanki...\n",
       "Mobile                                             65981895069900.0\n",
       "Date Of Birth     28/02/200317/12/200108/03/200230/10/200230/03/...\n",
       "Unnamed: 6                                                      0.0\n",
       "Admission Type    Category 1ManagementCategory 1ManagementCatego...\n",
       "Slab                                                         1787.0\n",
       "Gender            MaleMaleMaleMaleMaleMaleFemaleMaleMaleMaleFema...\n",
       "Application No                                           22391387.0\n",
       "dtype: object"
      ]
     },
     "execution_count": 24,
     "metadata": {},
     "output_type": "execute_result"
    }
   ],
   "source": [
    "std.sum()"
   ]
  },
  {
   "cell_type": "code",
   "execution_count": 25,
   "id": "360c0df3-8b08-49f3-b93a-cc38863a8475",
   "metadata": {
    "tags": []
   },
   "outputs": [
    {
     "data": {
      "text/html": [
       "<div>\n",
       "<style scoped>\n",
       "    .dataframe tbody tr th:only-of-type {\n",
       "        vertical-align: middle;\n",
       "    }\n",
       "\n",
       "    .dataframe tbody tr th {\n",
       "        vertical-align: top;\n",
       "    }\n",
       "\n",
       "    .dataframe thead th {\n",
       "        text-align: right;\n",
       "    }\n",
       "</style>\n",
       "<table border=\"1\" class=\"dataframe\">\n",
       "  <thead>\n",
       "    <tr style=\"text-align: right;\">\n",
       "      <th></th>\n",
       "      <th>Roll Number</th>\n",
       "      <th>Student Name</th>\n",
       "      <th>Institution Name</th>\n",
       "      <th>Email</th>\n",
       "      <th>Mobile</th>\n",
       "      <th>Date Of Birth</th>\n",
       "      <th>Unnamed: 6</th>\n",
       "      <th>Alternative Email</th>\n",
       "      <th>Alternative Mobile</th>\n",
       "      <th>Admission Type</th>\n",
       "      <th>Slab</th>\n",
       "      <th>Gender</th>\n",
       "      <th>Application No</th>\n",
       "    </tr>\n",
       "  </thead>\n",
       "  <tbody>\n",
       "    <tr>\n",
       "      <th>0</th>\n",
       "      <td>AM.EN.U4AIE20001</td>\n",
       "      <td>Abburi Sai Karthik</td>\n",
       "      <td>fiitjee junior college</td>\n",
       "      <td>abburisaikarthik@gmail.com</td>\n",
       "      <td>9.347981e+09</td>\n",
       "      <td>28/02/2003</td>\n",
       "      <td>NaN</td>\n",
       "      <td>sumathi9676909599@gmail.com</td>\n",
       "      <td>9652936379</td>\n",
       "      <td>Category 1</td>\n",
       "      <td>4.0</td>\n",
       "      <td>Male</td>\n",
       "      <td>22983.0</td>\n",
       "    </tr>\n",
       "    <tr>\n",
       "      <th>1</th>\n",
       "      <td>AM.EN.U4AIE20002</td>\n",
       "      <td>Abhinandhu A</td>\n",
       "      <td>NaN</td>\n",
       "      <td>abhinandhukarol@gmail.com</td>\n",
       "      <td>9.562154e+09</td>\n",
       "      <td>17/12/2001</td>\n",
       "      <td>NaN</td>\n",
       "      <td>anandhuajikarol@gmail.com</td>\n",
       "      <td>919562153784</td>\n",
       "      <td>Management</td>\n",
       "      <td>NaN</td>\n",
       "      <td>Male</td>\n",
       "      <td>34588.0</td>\n",
       "    </tr>\n",
       "    <tr>\n",
       "      <th>2</th>\n",
       "      <td>AM.EN.U4AIE20003</td>\n",
       "      <td>Abhiram S</td>\n",
       "      <td>KENDRIYA VIDYALAYA</td>\n",
       "      <td>abhiramannur2002@gmail.com</td>\n",
       "      <td>9.189211e+11</td>\n",
       "      <td>08/03/2002</td>\n",
       "      <td>NaN</td>\n",
       "      <td>abhiramannur2002@gmail.com</td>\n",
       "      <td>919495326053</td>\n",
       "      <td>Category 1</td>\n",
       "      <td>4.0</td>\n",
       "      <td>Male</td>\n",
       "      <td>31573.0</td>\n",
       "    </tr>\n",
       "    <tr>\n",
       "      <th>3</th>\n",
       "      <td>AM.EN.U4AIE20004</td>\n",
       "      <td>Addanki Veerababu</td>\n",
       "      <td>NaN</td>\n",
       "      <td>sweetyveera123@gmail.com</td>\n",
       "      <td>9.515162e+09</td>\n",
       "      <td>30/10/2002</td>\n",
       "      <td>NaN</td>\n",
       "      <td>sweetyveera123@gmail.com</td>\n",
       "      <td>919951372254</td>\n",
       "      <td>Management</td>\n",
       "      <td>NaN</td>\n",
       "      <td>Male</td>\n",
       "      <td>31929.0</td>\n",
       "    </tr>\n",
       "    <tr>\n",
       "      <th>4</th>\n",
       "      <td>AM.EN.U4AIE20005</td>\n",
       "      <td>Aditya R</td>\n",
       "      <td>NaN</td>\n",
       "      <td>adityar032002@gmail.com</td>\n",
       "      <td>8.921496e+09</td>\n",
       "      <td>30/03/2002</td>\n",
       "      <td>NaN</td>\n",
       "      <td>rajivknair064@gmail.com</td>\n",
       "      <td>+917907097479</td>\n",
       "      <td>Category 1</td>\n",
       "      <td>2.0</td>\n",
       "      <td>Male</td>\n",
       "      <td>16303.0</td>\n",
       "    </tr>\n",
       "    <tr>\n",
       "      <th>...</th>\n",
       "      <td>...</td>\n",
       "      <td>...</td>\n",
       "      <td>...</td>\n",
       "      <td>...</td>\n",
       "      <td>...</td>\n",
       "      <td>...</td>\n",
       "      <td>...</td>\n",
       "      <td>...</td>\n",
       "      <td>...</td>\n",
       "      <td>...</td>\n",
       "      <td>...</td>\n",
       "      <td>...</td>\n",
       "      <td>...</td>\n",
       "    </tr>\n",
       "    <tr>\n",
       "      <th>792</th>\n",
       "      <td>AM.EN.U4MEE20071</td>\n",
       "      <td>Vaishnav Gopakumar Pillai</td>\n",
       "      <td>NaN</td>\n",
       "      <td>amenu4mee20071@am.students.amrita.edu</td>\n",
       "      <td>8.301885e+09</td>\n",
       "      <td>02/10/2001</td>\n",
       "      <td>NaN</td>\n",
       "      <td>gopakumar1963@yahoo.co.in</td>\n",
       "      <td>919567760998</td>\n",
       "      <td>Category 3</td>\n",
       "      <td>1.0</td>\n",
       "      <td>Male</td>\n",
       "      <td>11907.0</td>\n",
       "    </tr>\n",
       "    <tr>\n",
       "      <th>793</th>\n",
       "      <td>AM.EN.U4MEE20072</td>\n",
       "      <td>Valois Ian Fernandes</td>\n",
       "      <td>NaN</td>\n",
       "      <td>NaN</td>\n",
       "      <td>NaN</td>\n",
       "      <td>04/06/2002</td>\n",
       "      <td>NaN</td>\n",
       "      <td>indiansthought@gmail.com</td>\n",
       "      <td>919922017831</td>\n",
       "      <td>Category 3</td>\n",
       "      <td>4.0</td>\n",
       "      <td>Male</td>\n",
       "      <td>24236.0</td>\n",
       "    </tr>\n",
       "    <tr>\n",
       "      <th>794</th>\n",
       "      <td>AM.EN.U4MEE20075</td>\n",
       "      <td>Anandhu Krishnan M</td>\n",
       "      <td>NaN</td>\n",
       "      <td>NaN</td>\n",
       "      <td>NaN</td>\n",
       "      <td>01/03/2001</td>\n",
       "      <td>NaN</td>\n",
       "      <td>anadhukrishna082@gmail.com</td>\n",
       "      <td>919544346109</td>\n",
       "      <td>Category 3</td>\n",
       "      <td>2.0</td>\n",
       "      <td>Male</td>\n",
       "      <td>40401.0</td>\n",
       "    </tr>\n",
       "    <tr>\n",
       "      <th>795</th>\n",
       "      <td>AM.EN.U4MEE20076</td>\n",
       "      <td>Aman Kumar</td>\n",
       "      <td>NaN</td>\n",
       "      <td>amankumar852910@gmail.com</td>\n",
       "      <td>8.529106e+09</td>\n",
       "      <td>19/02/2002</td>\n",
       "      <td>NaN</td>\n",
       "      <td>NaN</td>\n",
       "      <td>NaN</td>\n",
       "      <td>Category 3</td>\n",
       "      <td>4.0</td>\n",
       "      <td>Male</td>\n",
       "      <td>NaN</td>\n",
       "    </tr>\n",
       "    <tr>\n",
       "      <th>796</th>\n",
       "      <td>AM.EN.U4MEE20077</td>\n",
       "      <td>Gudivada Devendra Babu</td>\n",
       "      <td>NaN</td>\n",
       "      <td>gudivadadevendra@gmail.com</td>\n",
       "      <td>9.866111e+09</td>\n",
       "      <td>16/03/2003</td>\n",
       "      <td>NaN</td>\n",
       "      <td>gudivada29@gmail.com</td>\n",
       "      <td>9866110626</td>\n",
       "      <td>Category 3</td>\n",
       "      <td>4.0</td>\n",
       "      <td>Male</td>\n",
       "      <td>NaN</td>\n",
       "    </tr>\n",
       "  </tbody>\n",
       "</table>\n",
       "<p>797 rows × 13 columns</p>\n",
       "</div>"
      ],
      "text/plain": [
       "          Roll Number               Student Name        Institution Name  \\\n",
       "0    AM.EN.U4AIE20001         Abburi Sai Karthik  fiitjee junior college   \n",
       "1    AM.EN.U4AIE20002               Abhinandhu A                     NaN   \n",
       "2    AM.EN.U4AIE20003                  Abhiram S      KENDRIYA VIDYALAYA   \n",
       "3    AM.EN.U4AIE20004          Addanki Veerababu                     NaN   \n",
       "4    AM.EN.U4AIE20005                   Aditya R                     NaN   \n",
       "..                ...                        ...                     ...   \n",
       "792  AM.EN.U4MEE20071  Vaishnav Gopakumar Pillai                     NaN   \n",
       "793  AM.EN.U4MEE20072       Valois Ian Fernandes                     NaN   \n",
       "794  AM.EN.U4MEE20075         Anandhu Krishnan M                     NaN   \n",
       "795  AM.EN.U4MEE20076                 Aman Kumar                     NaN   \n",
       "796  AM.EN.U4MEE20077     Gudivada Devendra Babu                     NaN   \n",
       "\n",
       "                                     Email        Mobile Date Of Birth  \\\n",
       "0               abburisaikarthik@gmail.com  9.347981e+09    28/02/2003   \n",
       "1                abhinandhukarol@gmail.com  9.562154e+09    17/12/2001   \n",
       "2               abhiramannur2002@gmail.com  9.189211e+11    08/03/2002   \n",
       "3                 sweetyveera123@gmail.com  9.515162e+09    30/10/2002   \n",
       "4                  adityar032002@gmail.com  8.921496e+09    30/03/2002   \n",
       "..                                     ...           ...           ...   \n",
       "792  amenu4mee20071@am.students.amrita.edu  8.301885e+09    02/10/2001   \n",
       "793                                    NaN           NaN    04/06/2002   \n",
       "794                                    NaN           NaN    01/03/2001   \n",
       "795              amankumar852910@gmail.com  8.529106e+09    19/02/2002   \n",
       "796             gudivadadevendra@gmail.com  9.866111e+09    16/03/2003   \n",
       "\n",
       "     Unnamed: 6            Alternative Email Alternative Mobile  \\\n",
       "0           NaN  sumathi9676909599@gmail.com         9652936379   \n",
       "1           NaN    anandhuajikarol@gmail.com       919562153784   \n",
       "2           NaN   abhiramannur2002@gmail.com       919495326053   \n",
       "3           NaN     sweetyveera123@gmail.com       919951372254   \n",
       "4           NaN      rajivknair064@gmail.com      +917907097479   \n",
       "..          ...                          ...                ...   \n",
       "792         NaN    gopakumar1963@yahoo.co.in       919567760998   \n",
       "793         NaN     indiansthought@gmail.com       919922017831   \n",
       "794         NaN   anadhukrishna082@gmail.com       919544346109   \n",
       "795         NaN                          NaN                NaN   \n",
       "796         NaN         gudivada29@gmail.com         9866110626   \n",
       "\n",
       "    Admission Type  Slab Gender  Application No  \n",
       "0       Category 1   4.0   Male         22983.0  \n",
       "1       Management   NaN   Male         34588.0  \n",
       "2       Category 1   4.0   Male         31573.0  \n",
       "3       Management   NaN   Male         31929.0  \n",
       "4       Category 1   2.0   Male         16303.0  \n",
       "..             ...   ...    ...             ...  \n",
       "792     Category 3   1.0   Male         11907.0  \n",
       "793     Category 3   4.0   Male         24236.0  \n",
       "794     Category 3   2.0   Male         40401.0  \n",
       "795     Category 3   4.0   Male             NaN  \n",
       "796     Category 3   4.0   Male             NaN  \n",
       "\n",
       "[797 rows x 13 columns]"
      ]
     },
     "execution_count": 25,
     "metadata": {},
     "output_type": "execute_result"
    }
   ],
   "source": [
    "std.sort_index()"
   ]
  },
  {
   "cell_type": "markdown",
   "id": "caf6dc75-1f23-4869-8432-4fea6148c9e9",
   "metadata": {
    "tags": []
   },
   "source": [
    "d"
   ]
  },
  {
   "cell_type": "code",
   "execution_count": 36,
   "id": "4b886551-68fd-4e5b-bf06-dd3a0e7a77cc",
   "metadata": {
    "tags": []
   },
   "outputs": [
    {
     "name": "stdout",
     "output_type": "stream",
     "text": [
      "<class 'pandas.core.frame.DataFrame'>\n",
      "RangeIndex: 797 entries, 0 to 796\n",
      "Data columns (total 13 columns):\n",
      " #   Column              Non-Null Count  Dtype  \n",
      "---  ------              --------------  -----  \n",
      " 0   Roll Number         797 non-null    object \n",
      " 1   Student Name        797 non-null    object \n",
      " 2   Institution Name    163 non-null    object \n",
      " 3   Email               790 non-null    object \n",
      " 4   Mobile              789 non-null    float64\n",
      " 5   Date Of Birth       797 non-null    object \n",
      " 6   Unnamed: 6          0 non-null      float64\n",
      " 7   Alternative Email   773 non-null    object \n",
      " 8   Alternative Mobile  763 non-null    object \n",
      " 9   Admission Type      797 non-null    object \n",
      " 10  Slab                571 non-null    float64\n",
      " 11  Gender              797 non-null    object \n",
      " 12  Application No      720 non-null    float64\n",
      "dtypes: float64(4), object(9)\n",
      "memory usage: 81.1+ KB\n"
     ]
    }
   ],
   "source": [
    "std.info()"
   ]
  },
  {
   "cell_type": "code",
   "execution_count": 39,
   "id": "e3a9f99e-646c-4967-a237-a39ea816daea",
   "metadata": {
    "tags": []
   },
   "outputs": [],
   "source": [
    "# Dropping the columns having NaN/NaT values\n",
    "std = std.dropna(axis=1)\n",
    "\n",
    "# Resetting the indices using df.reset_index()\n",
    "std = std.reset_index(drop=True)"
   ]
  },
  {
   "cell_type": "code",
   "execution_count": 40,
   "id": "e79e3816-1a9e-4f16-a7ee-877f055ad8e3",
   "metadata": {
    "tags": []
   },
   "outputs": [
    {
     "name": "stdout",
     "output_type": "stream",
     "text": [
      "<class 'pandas.core.frame.DataFrame'>\n",
      "RangeIndex: 797 entries, 0 to 796\n",
      "Data columns (total 5 columns):\n",
      " #   Column          Non-Null Count  Dtype \n",
      "---  ------          --------------  ----- \n",
      " 0   Roll Number     797 non-null    object\n",
      " 1   Student Name    797 non-null    object\n",
      " 2   Date Of Birth   797 non-null    object\n",
      " 3   Admission Type  797 non-null    object\n",
      " 4   Gender          797 non-null    object\n",
      "dtypes: object(5)\n",
      "memory usage: 31.3+ KB\n"
     ]
    }
   ],
   "source": [
    "std.info()"
   ]
  },
  {
   "cell_type": "code",
   "execution_count": 41,
   "id": "b9ba5d0b-56a3-437b-9f8b-fbfe4416f850",
   "metadata": {
    "tags": []
   },
   "outputs": [
    {
     "data": {
      "text/html": [
       "<div>\n",
       "<style scoped>\n",
       "    .dataframe tbody tr th:only-of-type {\n",
       "        vertical-align: middle;\n",
       "    }\n",
       "\n",
       "    .dataframe tbody tr th {\n",
       "        vertical-align: top;\n",
       "    }\n",
       "\n",
       "    .dataframe thead th {\n",
       "        text-align: right;\n",
       "    }\n",
       "</style>\n",
       "<table border=\"1\" class=\"dataframe\">\n",
       "  <thead>\n",
       "    <tr style=\"text-align: right;\">\n",
       "      <th></th>\n",
       "      <th>Roll Number</th>\n",
       "      <th>Student Name</th>\n",
       "      <th>Date Of Birth</th>\n",
       "      <th>Admission Type</th>\n",
       "      <th>Gender</th>\n",
       "    </tr>\n",
       "  </thead>\n",
       "  <tbody>\n",
       "    <tr>\n",
       "      <th>0</th>\n",
       "      <td>AM.EN.U4AIE20001</td>\n",
       "      <td>Abburi Sai Karthik</td>\n",
       "      <td>28/02/2003</td>\n",
       "      <td>Category 1</td>\n",
       "      <td>Male</td>\n",
       "    </tr>\n",
       "    <tr>\n",
       "      <th>1</th>\n",
       "      <td>AM.EN.U4AIE20002</td>\n",
       "      <td>Abhinandhu A</td>\n",
       "      <td>17/12/2001</td>\n",
       "      <td>Management</td>\n",
       "      <td>Male</td>\n",
       "    </tr>\n",
       "    <tr>\n",
       "      <th>2</th>\n",
       "      <td>AM.EN.U4AIE20003</td>\n",
       "      <td>Abhiram S</td>\n",
       "      <td>08/03/2002</td>\n",
       "      <td>Category 1</td>\n",
       "      <td>Male</td>\n",
       "    </tr>\n",
       "    <tr>\n",
       "      <th>3</th>\n",
       "      <td>AM.EN.U4AIE20004</td>\n",
       "      <td>Addanki Veerababu</td>\n",
       "      <td>30/10/2002</td>\n",
       "      <td>Management</td>\n",
       "      <td>Male</td>\n",
       "    </tr>\n",
       "    <tr>\n",
       "      <th>4</th>\n",
       "      <td>AM.EN.U4AIE20005</td>\n",
       "      <td>Aditya R</td>\n",
       "      <td>30/03/2002</td>\n",
       "      <td>Category 1</td>\n",
       "      <td>Male</td>\n",
       "    </tr>\n",
       "  </tbody>\n",
       "</table>\n",
       "</div>"
      ],
      "text/plain": [
       "        Roll Number        Student Name Date Of Birth Admission Type Gender\n",
       "0  AM.EN.U4AIE20001  Abburi Sai Karthik    28/02/2003     Category 1   Male\n",
       "1  AM.EN.U4AIE20002        Abhinandhu A    17/12/2001     Management   Male\n",
       "2  AM.EN.U4AIE20003           Abhiram S    08/03/2002     Category 1   Male\n",
       "3  AM.EN.U4AIE20004   Addanki Veerababu    30/10/2002     Management   Male\n",
       "4  AM.EN.U4AIE20005            Aditya R    30/03/2002     Category 1   Male"
      ]
     },
     "execution_count": 41,
     "metadata": {},
     "output_type": "execute_result"
    }
   ],
   "source": [
    "std.head()"
   ]
  },
  {
   "cell_type": "code",
   "execution_count": 51,
   "id": "e84085c2-87c2-497c-8366-55be12993bc5",
   "metadata": {
    "tags": []
   },
   "outputs": [
    {
     "name": "stdout",
     "output_type": "stream",
     "text": [
      "Index(['Roll Number', 'Student Name', 'Date Of Birth', 'Admission Type',\n",
      "       'Gender'],\n",
      "      dtype='object')\n"
     ]
    }
   ],
   "source": [
    "print(std.columns)"
   ]
  },
  {
   "cell_type": "code",
   "execution_count": 50,
   "id": "e41dbbb0-8e8e-4c2a-9fd8-076c78a93c8b",
   "metadata": {
    "tags": []
   },
   "outputs": [],
   "source": [
    "std.columns = std.columns.str.strip()"
   ]
  },
  {
   "cell_type": "code",
   "execution_count": 55,
   "id": "ac8dc13e-4bc8-42d7-800c-2f6e45229508",
   "metadata": {
    "tags": []
   },
   "outputs": [
    {
     "data": {
      "text/plain": [
       "0      Male\n",
       "1      Male\n",
       "2      Male\n",
       "3      Male\n",
       "4      Male\n",
       "       ... \n",
       "792    Male\n",
       "793    Male\n",
       "794    Male\n",
       "795    Male\n",
       "796    Male\n",
       "Name: Gender, Length: 797, dtype: object"
      ]
     },
     "execution_count": 55,
     "metadata": {},
     "output_type": "execute_result"
    }
   ],
   "source": [
    "columns = std.columns.values.tolist()\n",
    "std[columns[4]]"
   ]
  },
  {
   "cell_type": "code",
   "execution_count": 58,
   "id": "402eb3aa-31ac-48d4-9053-50c5adb12871",
   "metadata": {
    "tags": []
   },
   "outputs": [
    {
     "ename": "AttributeError",
     "evalue": "'Series' object has no attribute 'order'",
     "output_type": "error",
     "traceback": [
      "\u001b[1;31m---------------------------------------------------------------------------\u001b[0m",
      "\u001b[1;31mAttributeError\u001b[0m                            Traceback (most recent call last)",
      "Cell \u001b[1;32mIn[58], line 1\u001b[0m\n\u001b[1;32m----> 1\u001b[0m \u001b[43mstd\u001b[49m\u001b[43m[\u001b[49m\u001b[43mcolumns\u001b[49m\u001b[43m[\u001b[49m\u001b[38;5;241;43m2\u001b[39;49m\u001b[43m]\u001b[49m\u001b[43m]\u001b[49m\u001b[38;5;241;43m.\u001b[39;49m\u001b[43morder\u001b[49m()\n",
      "File \u001b[1;32m~\\AppData\\Local\\Programs\\Python\\Python311\\Lib\\site-packages\\pandas\\core\\generic.py:5902\u001b[0m, in \u001b[0;36mNDFrame.__getattr__\u001b[1;34m(self, name)\u001b[0m\n\u001b[0;32m   5895\u001b[0m \u001b[38;5;28;01mif\u001b[39;00m (\n\u001b[0;32m   5896\u001b[0m     name \u001b[38;5;129;01mnot\u001b[39;00m \u001b[38;5;129;01min\u001b[39;00m \u001b[38;5;28mself\u001b[39m\u001b[38;5;241m.\u001b[39m_internal_names_set\n\u001b[0;32m   5897\u001b[0m     \u001b[38;5;129;01mand\u001b[39;00m name \u001b[38;5;129;01mnot\u001b[39;00m \u001b[38;5;129;01min\u001b[39;00m \u001b[38;5;28mself\u001b[39m\u001b[38;5;241m.\u001b[39m_metadata\n\u001b[0;32m   5898\u001b[0m     \u001b[38;5;129;01mand\u001b[39;00m name \u001b[38;5;129;01mnot\u001b[39;00m \u001b[38;5;129;01min\u001b[39;00m \u001b[38;5;28mself\u001b[39m\u001b[38;5;241m.\u001b[39m_accessors\n\u001b[0;32m   5899\u001b[0m     \u001b[38;5;129;01mand\u001b[39;00m \u001b[38;5;28mself\u001b[39m\u001b[38;5;241m.\u001b[39m_info_axis\u001b[38;5;241m.\u001b[39m_can_hold_identifiers_and_holds_name(name)\n\u001b[0;32m   5900\u001b[0m ):\n\u001b[0;32m   5901\u001b[0m     \u001b[38;5;28;01mreturn\u001b[39;00m \u001b[38;5;28mself\u001b[39m[name]\n\u001b[1;32m-> 5902\u001b[0m \u001b[38;5;28;01mreturn\u001b[39;00m \u001b[38;5;28;43mobject\u001b[39;49m\u001b[38;5;241;43m.\u001b[39;49m\u001b[38;5;21;43m__getattribute__\u001b[39;49m\u001b[43m(\u001b[49m\u001b[38;5;28;43mself\u001b[39;49m\u001b[43m,\u001b[49m\u001b[43m \u001b[49m\u001b[43mname\u001b[49m\u001b[43m)\u001b[49m\n",
      "\u001b[1;31mAttributeError\u001b[0m: 'Series' object has no attribute 'order'"
     ]
    }
   ],
   "source": [
    "std[columns[2]].order()"
   ]
  },
  {
   "cell_type": "code",
   "execution_count": 59,
   "id": "7c0de3f3-d504-4712-8540-4d931d06c5d3",
   "metadata": {
    "tags": []
   },
   "outputs": [
    {
     "name": "stdout",
     "output_type": "stream",
     "text": [
      "<class 'pandas.core.series.Series'>\n"
     ]
    }
   ],
   "source": [
    "print(type(std['Date Of Birth']))\n"
   ]
  },
  {
   "cell_type": "code",
   "execution_count": 60,
   "id": "27d11da6-4bfe-4786-8e5b-7d2e10140b9d",
   "metadata": {
    "tags": []
   },
   "outputs": [
    {
     "name": "stderr",
     "output_type": "stream",
     "text": [
      "C:\\Users\\madhankumarv\\AppData\\Local\\Temp\\ipykernel_9544\\4252208923.py:2: UserWarning: Parsing dates in DD/MM/YYYY format when dayfirst=False (the default) was specified. This may lead to inconsistently parsed dates! Specify a format to ensure consistent parsing.\n",
      "  std['Date Of Birth'] = pd.to_datetime(std['Date Of Birth'])\n"
     ]
    }
   ],
   "source": [
    "# convert to date\n",
    "std['Date Of Birth'] = pd.to_datetime(std['Date Of Birth'])"
   ]
  },
  {
   "cell_type": "code",
   "execution_count": 83,
   "id": "0d888300-21dc-49c0-9007-3d0d8c79e020",
   "metadata": {
    "tags": []
   },
   "outputs": [],
   "source": [
    "mm=std.groupby(\"Gender\").count()\n"
   ]
  },
  {
   "cell_type": "code",
   "execution_count": 84,
   "id": "a11fa825-4985-4e8e-b523-8f277411ef74",
   "metadata": {
    "tags": []
   },
   "outputs": [
    {
     "data": {
      "text/html": [
       "<div>\n",
       "<style scoped>\n",
       "    .dataframe tbody tr th:only-of-type {\n",
       "        vertical-align: middle;\n",
       "    }\n",
       "\n",
       "    .dataframe tbody tr th {\n",
       "        vertical-align: top;\n",
       "    }\n",
       "\n",
       "    .dataframe thead th {\n",
       "        text-align: right;\n",
       "    }\n",
       "</style>\n",
       "<table border=\"1\" class=\"dataframe\">\n",
       "  <thead>\n",
       "    <tr style=\"text-align: right;\">\n",
       "      <th></th>\n",
       "      <th>Roll Number</th>\n",
       "      <th>Student Name</th>\n",
       "      <th>Date Of Birth</th>\n",
       "    </tr>\n",
       "    <tr>\n",
       "      <th>Admission Type</th>\n",
       "      <th></th>\n",
       "      <th></th>\n",
       "      <th></th>\n",
       "    </tr>\n",
       "  </thead>\n",
       "  <tbody>\n",
       "    <tr>\n",
       "      <th>155</th>\n",
       "      <td>1</td>\n",
       "      <td>1</td>\n",
       "      <td>1</td>\n",
       "    </tr>\n",
       "    <tr>\n",
       "      <th>642</th>\n",
       "      <td>1</td>\n",
       "      <td>1</td>\n",
       "      <td>1</td>\n",
       "    </tr>\n",
       "  </tbody>\n",
       "</table>\n",
       "</div>"
      ],
      "text/plain": [
       "                Roll Number  Student Name  Date Of Birth\n",
       "Admission Type                                          \n",
       "155                       1             1              1\n",
       "642                       1             1              1"
      ]
     },
     "execution_count": 84,
     "metadata": {},
     "output_type": "execute_result"
    }
   ],
   "source": [
    "mm.groupby(\"Admission Type\").count()"
   ]
  },
  {
   "cell_type": "code",
   "execution_count": 79,
   "id": "b39c2416-ce47-4d1d-8781-4c604321d569",
   "metadata": {
    "tags": []
   },
   "outputs": [
    {
     "data": {
      "text/plain": [
       "<Figure size 800x500 with 0 Axes>"
      ]
     },
     "execution_count": 79,
     "metadata": {},
     "output_type": "execute_result"
    },
    {
     "data": {
      "text/plain": [
       "<Figure size 800x500 with 0 Axes>"
      ]
     },
     "metadata": {},
     "output_type": "display_data"
    }
   ],
   "source": [
    "ptl.figure(figsize=(8,5))"
   ]
  },
  {
   "cell_type": "code",
   "execution_count": 91,
   "id": "6315d1d7-1cd5-4bf7-bb61-f4f628915b2b",
   "metadata": {
    "tags": []
   },
   "outputs": [
    {
     "data": {
      "image/png": "[encoded data removed]",
      "text/plain": [
       "<Figure size 1000x700 with 1 Axes>"
      ]
     },
     "metadata": {},
     "output_type": "display_data"
    }
   ],
   "source": [
    "name = std['Gender']\n",
    "price = std['b\n",
    "            ']\n",
    " \n",
    "# Figure Size\n",
    "fig = ptl.figure(figsize =(10, 7))\n",
    " \n",
    "# Horizontal Bar Plot\n",
    "ptl.bar(name, price)\n",
    " \n",
    "# Show Plot\n",
    "ptl.show()"
   ]
  },
  {
   "cell_type": "code",
   "execution_count": 96,
   "id": "7c4a2d81-e38c-45a1-b613-8ce8f3173a9b",
   "metadata": {
    "tags": []
   },
   "outputs": [
    {
     "data": {
      "image/png": "[encoded data removed]",
      "text/plain": [
       "<Figure size 1000x500 with 1 Axes>"
      ]
     },
     "metadata": {},
     "output_type": "display_data"
    }
   ],
   "source": [
    "import numpy as np\n",
    "import matplotlib.pyplot as plt\n",
    "\n",
    "courses = list(std['Gender'])\n",
    "values = list(std['Admission Type'])\n",
    "\n",
    "fig = plt.figure(figsize = (10, 5))\n",
    "\n",
    "# creating the bar plot\n",
    "plt.bar(values,courses, color ='maroon',\n",
    "\t\twidth = 0.4)\n",
    "\n",
    "plt.xlabel(\"Courses offered\")\n",
    "plt.ylabel(\"No. of students enrolled\")\n",
    "plt.title(\"Students enrolled in different courses\")\n",
    "plt.show()\n"
   ]
  },
  {
   "cell_type": "code",
   "execution_count": 106,
   "id": "8ffc95ca-60f6-44c3-8c7c-c6904fd63870",
   "metadata": {
    "tags": []
   },
   "outputs": [
    {
     "name": "stdout",
     "output_type": "stream",
     "text": [
      "<class 'pandas.core.frame.DataFrame'>\n",
      "RangeIndex: 797 entries, 0 to 796\n",
      "Data columns (total 5 columns):\n",
      " #   Column          Non-Null Count  Dtype         \n",
      "---  ------          --------------  -----         \n",
      " 0   Roll Number     797 non-null    object        \n",
      " 1   Student Name    797 non-null    object        \n",
      " 2   Date Of Birth   797 non-null    datetime64[ns]\n",
      " 3   Admission Type  797 non-null    object        \n",
      " 4   Gender          797 non-null    object        \n",
      "dtypes: datetime64[ns](1), object(4)\n",
      "memory usage: 31.3+ KB\n"
     ]
    }
   ],
   "source": [
    "    std.info()"
   ]
  },
  {
   "cell_type": "code",
   "execution_count": 129,
   "id": "035e0af2-bed6-4b9f-a4a4-4f1769274c38",
   "metadata": {
    "tags": []
   },
   "outputs": [
    {
     "ename": "SyntaxError",
     "evalue": "invalid syntax (3058823897.py, line 1)",
     "output_type": "error",
     "traceback": [
      "\u001b[1;36m  Cell \u001b[1;32mIn[129], line 1\u001b[1;36m\u001b[0m\n\u001b[1;33m    std['Gender'].().value_counts()\u001b[0m\n\u001b[1;37m                  ^\u001b[0m\n\u001b[1;31mSyntaxError\u001b[0m\u001b[1;31m:\u001b[0m invalid syntax\n"
     ]
    }
   ],
   "source": [
    "std['Gender'].().value_counts()"
   ]
  },
  {
   "cell_type": "code",
   "execution_count": 133,
   "id": "9739e605-b53a-4863-ac2f-9bb03ee8732a",
   "metadata": {
    "tags": []
   },
   "outputs": [
    {
     "ename": "AttributeError",
     "evalue": "'Series' object has no attribute 'value'",
     "output_type": "error",
     "traceback": [
      "\u001b[1;31m---------------------------------------------------------------------------\u001b[0m",
      "\u001b[1;31mAttributeError\u001b[0m                            Traceback (most recent call last)",
      "Cell \u001b[1;32mIn[133], line 1\u001b[0m\n\u001b[1;32m----> 1\u001b[0m \u001b[43mstd\u001b[49m\u001b[43m[\u001b[49m\u001b[38;5;124;43m'\u001b[39;49m\u001b[38;5;124;43mGender\u001b[39;49m\u001b[38;5;124;43m'\u001b[39;49m\u001b[43m]\u001b[49m\u001b[38;5;241;43m.\u001b[39;49m\u001b[43mvalue\u001b[49m()\u001b[38;5;241m.\u001b[39mvalue_counts()\n",
      "File \u001b[1;32m~\\AppData\\Local\\Programs\\Python\\Python311\\Lib\\site-packages\\pandas\\core\\generic.py:5902\u001b[0m, in \u001b[0;36mNDFrame.__getattr__\u001b[1;34m(self, name)\u001b[0m\n\u001b[0;32m   5895\u001b[0m \u001b[38;5;28;01mif\u001b[39;00m (\n\u001b[0;32m   5896\u001b[0m     name \u001b[38;5;129;01mnot\u001b[39;00m \u001b[38;5;129;01min\u001b[39;00m \u001b[38;5;28mself\u001b[39m\u001b[38;5;241m.\u001b[39m_internal_names_set\n\u001b[0;32m   5897\u001b[0m     \u001b[38;5;129;01mand\u001b[39;00m name \u001b[38;5;129;01mnot\u001b[39;00m \u001b[38;5;129;01min\u001b[39;00m \u001b[38;5;28mself\u001b[39m\u001b[38;5;241m.\u001b[39m_metadata\n\u001b[0;32m   5898\u001b[0m     \u001b[38;5;129;01mand\u001b[39;00m name \u001b[38;5;129;01mnot\u001b[39;00m \u001b[38;5;129;01min\u001b[39;00m \u001b[38;5;28mself\u001b[39m\u001b[38;5;241m.\u001b[39m_accessors\n\u001b[0;32m   5899\u001b[0m     \u001b[38;5;129;01mand\u001b[39;00m \u001b[38;5;28mself\u001b[39m\u001b[38;5;241m.\u001b[39m_info_axis\u001b[38;5;241m.\u001b[39m_can_hold_identifiers_and_holds_name(name)\n\u001b[0;32m   5900\u001b[0m ):\n\u001b[0;32m   5901\u001b[0m     \u001b[38;5;28;01mreturn\u001b[39;00m \u001b[38;5;28mself\u001b[39m[name]\n\u001b[1;32m-> 5902\u001b[0m \u001b[38;5;28;01mreturn\u001b[39;00m \u001b[38;5;28;43mobject\u001b[39;49m\u001b[38;5;241;43m.\u001b[39;49m\u001b[38;5;21;43m__getattribute__\u001b[39;49m\u001b[43m(\u001b[49m\u001b[38;5;28;43mself\u001b[39;49m\u001b[43m,\u001b[49m\u001b[43m \u001b[49m\u001b[43mname\u001b[49m\u001b[43m)\u001b[49m\n",
      "\u001b[1;31mAttributeError\u001b[0m: 'Series' object has no attribute 'value'"
     ]
    }
   ],
   "source": [
    "std['Gender'].value().value_counts()"
   ]
  },
  {
   "cell_type": "code",
   "execution_count": null,
   "id": "28fddd78-c514-498c-ab86-1351f5ab0df3",
   "metadata": {},
   "outputs": [],
   "source": []
  },
  {
   "cell_type": "code",
   "execution_count": null,
   "id": "872fa4aa-938b-47c1-9480-f8f29bba0b29",
   "metadata": {},
   "outputs": [],
   "source": []
  },
  {
   "cell_type": "code",
   "execution_count": 138,
   "id": "e59d87df-7467-4bd9-8b01-c875de2ab282",
   "metadata": {
    "tags": []
   },
   "outputs": [
    {
     "ename": "AttributeError",
     "evalue": "'Series' object has no attribute 'sorted'",
     "output_type": "error",
     "traceback": [
      "\u001b[1;31m---------------------------------------------------------------------------\u001b[0m",
      "\u001b[1;31mAttributeError\u001b[0m                            Traceback (most recent call last)",
      "Cell \u001b[1;32mIn[138], line 1\u001b[0m\n\u001b[1;32m----> 1\u001b[0m \u001b[43mstd\u001b[49m\u001b[43m[\u001b[49m\u001b[38;5;124;43m'\u001b[39;49m\u001b[38;5;124;43mAdmission Type\u001b[39;49m\u001b[38;5;124;43m'\u001b[39;49m\u001b[43m]\u001b[49m\u001b[38;5;241;43m.\u001b[39;49m\u001b[43msorted\u001b[49m()\n",
      "File \u001b[1;32m~\\AppData\\Local\\Programs\\Python\\Python311\\Lib\\site-packages\\pandas\\core\\generic.py:5902\u001b[0m, in \u001b[0;36mNDFrame.__getattr__\u001b[1;34m(self, name)\u001b[0m\n\u001b[0;32m   5895\u001b[0m \u001b[38;5;28;01mif\u001b[39;00m (\n\u001b[0;32m   5896\u001b[0m     name \u001b[38;5;129;01mnot\u001b[39;00m \u001b[38;5;129;01min\u001b[39;00m \u001b[38;5;28mself\u001b[39m\u001b[38;5;241m.\u001b[39m_internal_names_set\n\u001b[0;32m   5897\u001b[0m     \u001b[38;5;129;01mand\u001b[39;00m name \u001b[38;5;129;01mnot\u001b[39;00m \u001b[38;5;129;01min\u001b[39;00m \u001b[38;5;28mself\u001b[39m\u001b[38;5;241m.\u001b[39m_metadata\n\u001b[0;32m   5898\u001b[0m     \u001b[38;5;129;01mand\u001b[39;00m name \u001b[38;5;129;01mnot\u001b[39;00m \u001b[38;5;129;01min\u001b[39;00m \u001b[38;5;28mself\u001b[39m\u001b[38;5;241m.\u001b[39m_accessors\n\u001b[0;32m   5899\u001b[0m     \u001b[38;5;129;01mand\u001b[39;00m \u001b[38;5;28mself\u001b[39m\u001b[38;5;241m.\u001b[39m_info_axis\u001b[38;5;241m.\u001b[39m_can_hold_identifiers_and_holds_name(name)\n\u001b[0;32m   5900\u001b[0m ):\n\u001b[0;32m   5901\u001b[0m     \u001b[38;5;28;01mreturn\u001b[39;00m \u001b[38;5;28mself\u001b[39m[name]\n\u001b[1;32m-> 5902\u001b[0m \u001b[38;5;28;01mreturn\u001b[39;00m \u001b[38;5;28;43mobject\u001b[39;49m\u001b[38;5;241;43m.\u001b[39;49m\u001b[38;5;21;43m__getattribute__\u001b[39;49m\u001b[43m(\u001b[49m\u001b[38;5;28;43mself\u001b[39;49m\u001b[43m,\u001b[49m\u001b[43m \u001b[49m\u001b[43mname\u001b[49m\u001b[43m)\u001b[49m\n",
      "\u001b[1;31mAttributeError\u001b[0m: 'Series' object has no attribute 'sorted'"
     ]
    }
   ],
   "source": [
    "std['Admission Type'].sorted()"
   ]
  },
  {
   "cell_type": "code",
   "execution_count": 135,
   "id": "03669b37-e047-4c16-a44e-43f229a71263",
   "metadata": {
    "tags": []
   },
   "outputs": [
    {
     "data": {
      "text/plain": [
       "<function matplotlib.pyplot.show(close=None, block=None)>"
      ]
     },
     "execution_count": 135,
     "metadata": {},
     "output_type": "execute_result"
    },
    {
     "data": {
      "image/png": "[encoded data removed]",
      "text/plain": [
       "<Figure size 700x700 with 1 Axes>"
      ]
     },
     "metadata": {},
     "output_type": "display_data"
    }
   ],
   "source": [
    "plt.figure(figsize=(7,7))\n",
    "plt.hist(std['Admission Type'])\n",
    "plt.show"
   ]
  }
 ],
 "metadata": {
  "kernelspec": {
   "display_name": "Python 3 (ipykernel)",
   "language": "python",
   "name": "python3"
  },
  "language_info": {
   "codemirror_mode": {
    "name": "ipython",
    "version": 3
   },
   "file_extension": ".py",
   "mimetype": "text/x-python",
   "name": "python",
   "nbconvert_exporter": "python",
   "pygments_lexer": "ipython3",
   "version": "3.11.0"
  }
 },
 "nbformat": 4,
 "nbformat_minor": 5
}
